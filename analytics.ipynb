{
 "cells": [
  {
   "cell_type": "code",
   "execution_count": 17,
   "metadata": {},
   "outputs": [],
   "source": [
    "import os\n",
    "\n",
    "# os.environ[\"MODIN_ENGINE\"] = \"ray\"\n",
    "from datetime import datetime, timedelta, timezone\n",
    "\n",
    "# import modin.pandas as pd\n",
    "import pandas as pd\n",
    "\n",
    "from utils import get_db_con"
   ]
  },
  {
   "cell_type": "code",
   "execution_count": 19,
   "metadata": {},
   "outputs": [
    {
     "name": "stdout",
     "output_type": "stream",
     "text": [
      "52737\n"
     ]
    }
   ],
   "source": [
    "with get_db_con() as db_con:\n",
    "    query = \"SELECT * FROM items\"\n",
    "    # cur = db_con.execute(\"SELECT * FROM items\")\n",
    "    # results = cur.fetchall()\n",
    "    df = pd.read_sql_query(query, db_con)\n",
    "    # UTC is 8 hours ahead of PT\n",
    "    # pt_now = datetime.now(timezone.utc) - timedelta(hours=8)\n",
    "    # db_df.to_csv(f\"items_{pt_now.isoformat()}.csv\")\n",
    "    print(len(df))"
   ]
  },
  {
   "cell_type": "code",
   "execution_count": null,
   "metadata": {},
   "outputs": [],
   "source": [
    "def extract_city_from_category_url(row):\n",
    "    # ex category_rel_url: /category/emeryville-ca/african\n",
    "    return row[\"category_rel_url\"].split(\"/\", 3)[2].rsplit(\"-\", 1)[0].title()\n",
    "\n",
    "\n",
    "df[\"city\"] = df.apply(lambda row: extract_city_from_category_url(row), axis=1)\n",
    "df.head()"
   ]
  },
  {
   "cell_type": "code",
   "execution_count": null,
   "metadata": {},
   "outputs": [],
   "source": [
    "df.groupby([\"city\"]).size()"
   ]
  },
  {
   "cell_type": "code",
   "execution_count": null,
   "metadata": {},
   "outputs": [],
   "source": [
    "import sqlite3\n",
    "\n",
    "sqlite3.threadsafety"
   ]
  },
  {
   "cell_type": "code",
   "execution_count": null,
   "metadata": {},
   "outputs": [],
   "source": []
  }
 ],
 "metadata": {
  "kernelspec": {
   "display_name": "foodrec",
   "language": "python",
   "name": "python3"
  },
  "language_info": {
   "codemirror_mode": {
    "name": "ipython",
    "version": 3
   },
   "file_extension": ".py",
   "mimetype": "text/x-python",
   "name": "python",
   "nbconvert_exporter": "python",
   "pygments_lexer": "ipython3",
   "version": "3.11.1"
  },
  "orig_nbformat": 4,
  "vscode": {
   "interpreter": {
    "hash": "0a092c6058e24da192ebd79247f4068382e571c68fdc376876a7574f9384a50b"
   }
  }
 },
 "nbformat": 4,
 "nbformat_minor": 2
}
