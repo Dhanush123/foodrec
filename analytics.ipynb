{
 "cells": [
  {
   "cell_type": "code",
   "execution_count": 45,
   "metadata": {},
   "outputs": [],
   "source": [
    "import os\n",
    "\n",
    "# os.environ[\"MODIN_ENGINE\"] = \"ray\"\n",
    "from datetime import datetime, timedelta, timezone\n",
    "\n",
    "# import modin.pandas as pd\n",
    "import pandas as pd\n",
    "\n",
    "from utils import get_db_con"
   ]
  },
  {
   "cell_type": "code",
   "execution_count": 46,
   "metadata": {},
   "outputs": [
    {
     "name": "stdout",
     "output_type": "stream",
     "text": [
      "1\n"
     ]
    }
   ],
   "source": [
    "with get_db_con() as db_con:\n",
    "    query = \"SELECT * FROM items\"\n",
    "    # cur = db_con.execute(\"SELECT * FROM items\")\n",
    "    # results = cur.fetchall()\n",
    "    df = pd.read_sql_query(query, db_con)\n",
    "    # UTC is 8 hours ahead of PT\n",
    "    # pt_now = datetime.now(timezone.utc) - timedelta(hours=8)\n",
    "    # db_df.to_csv(f\"items_{pt_now.isoformat()}.csv\")\n",
    "    print(len(df))"
   ]
  },
  {
   "cell_type": "code",
   "execution_count": 47,
   "metadata": {},
   "outputs": [
    {
     "data": {
      "text/html": [
       "<div>\n",
       "<style scoped>\n",
       "    .dataframe tbody tr th:only-of-type {\n",
       "        vertical-align: middle;\n",
       "    }\n",
       "\n",
       "    .dataframe tbody tr th {\n",
       "        vertical-align: top;\n",
       "    }\n",
       "\n",
       "    .dataframe thead th {\n",
       "        text-align: right;\n",
       "    }\n",
       "</style>\n",
       "<table border=\"1\" class=\"dataframe\">\n",
       "  <thead>\n",
       "    <tr style=\"text-align: right;\">\n",
       "      <th></th>\n",
       "      <th>item_name</th>\n",
       "      <th>item_description</th>\n",
       "      <th>item_rel_url</th>\n",
       "      <th>is_item_hydrated</th>\n",
       "      <th>restaurant_name</th>\n",
       "      <th>restaurant_rating</th>\n",
       "      <th>restaurant_rel_url</th>\n",
       "      <th>category_name</th>\n",
       "      <th>category_rel_url</th>\n",
       "      <th>city</th>\n",
       "    </tr>\n",
       "  </thead>\n",
       "  <tbody>\n",
       "    <tr>\n",
       "      <th>0</th>\n",
       "      <td>None</td>\n",
       "      <td>None</td>\n",
       "      <td>/store/mcdonalds-6623-san-pablo-ave/MOLzwTElTX...</td>\n",
       "      <td>0</td>\n",
       "      <td>McDonald's® (6623 San Pablo Ave)</td>\n",
       "      <td>4.6</td>\n",
       "      <td>/store/mcdonalds-6623-san-pablo-ave/MOLzwTElTX...</td>\n",
       "      <td>24 Hours Food</td>\n",
       "      <td>/category/emeryville-ca/24-hours</td>\n",
       "      <td>Emeryville</td>\n",
       "    </tr>\n",
       "  </tbody>\n",
       "</table>\n",
       "</div>"
      ],
      "text/plain": [
       "  item_name item_description  \\\n",
       "0      None             None   \n",
       "\n",
       "                                        item_rel_url  is_item_hydrated  \\\n",
       "0  /store/mcdonalds-6623-san-pablo-ave/MOLzwTElTX...                 0   \n",
       "\n",
       "                    restaurant_name  restaurant_rating  \\\n",
       "0  McDonald's® (6623 San Pablo Ave)                4.6   \n",
       "\n",
       "                                  restaurant_rel_url  category_name  \\\n",
       "0  /store/mcdonalds-6623-san-pablo-ave/MOLzwTElTX...  24 Hours Food   \n",
       "\n",
       "                   category_rel_url        city  \n",
       "0  /category/emeryville-ca/24-hours  Emeryville  "
      ]
     },
     "execution_count": 47,
     "metadata": {},
     "output_type": "execute_result"
    }
   ],
   "source": [
    "def extract_city_from_category_url(row):\n",
    "    # ex category_rel_url: /category/emeryville-ca/african\n",
    "    return row[\"category_rel_url\"].split(\"/\", 3)[2].rsplit(\"-\", 1)[0].title()\n",
    "\n",
    "\n",
    "df[\"city\"] = df.apply(lambda row: extract_city_from_category_url(row), axis=1)\n",
    "df.head()"
   ]
  },
  {
   "cell_type": "code",
   "execution_count": 51,
   "metadata": {},
   "outputs": [
    {
     "data": {
      "text/plain": [
       "city\n",
       "Emeryville    1\n",
       "dtype: int64"
      ]
     },
     "execution_count": 51,
     "metadata": {},
     "output_type": "execute_result"
    }
   ],
   "source": [
    "df.groupby([\"city\"]).size()"
   ]
  },
  {
   "cell_type": "code",
   "execution_count": 41,
   "metadata": {},
   "outputs": [
    {
     "data": {
      "text/plain": [
       "3"
      ]
     },
     "execution_count": 41,
     "metadata": {},
     "output_type": "execute_result"
    }
   ],
   "source": [
    "import sqlite3\n",
    "\n",
    "sqlite3.threadsafety"
   ]
  },
  {
   "cell_type": "code",
   "execution_count": null,
   "metadata": {},
   "outputs": [],
   "source": []
  }
 ],
 "metadata": {
  "kernelspec": {
   "display_name": "foodrec",
   "language": "python",
   "name": "python3"
  },
  "language_info": {
   "codemirror_mode": {
    "name": "ipython",
    "version": 3
   },
   "file_extension": ".py",
   "mimetype": "text/x-python",
   "name": "python",
   "nbconvert_exporter": "python",
   "pygments_lexer": "ipython3",
   "version": "3.11.1"
  },
  "orig_nbformat": 4,
  "vscode": {
   "interpreter": {
    "hash": "0a092c6058e24da192ebd79247f4068382e571c68fdc376876a7574f9384a50b"
   }
  }
 },
 "nbformat": 4,
 "nbformat_minor": 2
}
